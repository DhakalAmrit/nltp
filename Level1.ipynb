{
 "cells": [
  {
   "cell_type": "markdown",
   "id": "dff818f9-30a5-45d7-b7f9-e5272edb14d6",
   "metadata": {},
   "source": [
    "# 1. Tokenization"
   ]
  },
  {
   "cell_type": "code",
   "execution_count": 1,
   "id": "3fcad3c4-0b08-471c-b574-8113516291ab",
   "metadata": {},
   "outputs": [
    {
     "name": "stdout",
     "output_type": "stream",
     "text": [
      "Number of GPU:  1\n",
      "GPU Name:  NVIDIA GeForce RTX 2060\n",
      "Using device: cuda\n"
     ]
    }
   ],
   "source": [
    "import torch\n",
    "\n",
    "print(\"Number of GPU: \", torch.cuda.device_count())\n",
    "print(\"GPU Name: \", torch.cuda.get_device_name())\n",
    "device = torch.device('cuda' if torch.cuda.is_available() else 'cpu')\n",
    "print('Using device:', device)"
   ]
  },
  {
   "cell_type": "code",
   "execution_count": 2,
   "id": "738965f8-9269-422e-b835-30a2a6fbb620",
   "metadata": {
    "editable": true,
    "slideshow": {
     "slide_type": ""
    },
    "tags": []
   },
   "outputs": [],
   "source": [
    "import nltk\n",
    "\n",
    "#nltk.download()\n",
    "\n",
    "paragraph = \"My name is amrit dhakal. I hve three vision for Nepal.\"\n",
    "\n",
    "# tokenizing sentences\n",
    "sentences = nltk.sent_tokenize(paragraph)\n",
    "\n",
    "# tokenizing words+\n",
    "words = nltk.word_tokenize(paragraph)"
   ]
  },
  {
   "cell_type": "code",
   "execution_count": 3,
   "id": "db03acdd-a07a-4905-bf18-c4280aa3f2bb",
   "metadata": {},
   "outputs": [
    {
     "name": "stdout",
     "output_type": "stream",
     "text": [
      "['My', 'name', 'is', 'amrit', 'dhakal', '.', 'I', 'hve', 'three', 'vision', 'for', 'Nepal', '.']\n"
     ]
    }
   ],
   "source": [
    "print(words)"
   ]
  },
  {
   "cell_type": "markdown",
   "id": "40162243-f2a3-4d22-a6be-34eef982a384",
   "metadata": {},
   "source": [
    "# 2. Stemming\n",
    "Paragraph source [Here](https://www.futurelearn.com/info/courses/preparing-for-uni/0/steps/1177)"
   ]
  },
  {
   "cell_type": "code",
   "execution_count": 4,
   "id": "d1976256-23b2-43da-b897-d9d5d5d38fc2",
   "metadata": {},
   "outputs": [],
   "source": [
    "# importing library\n",
    "import nltk\n",
    "\n",
    "from nltk.stem import PorterStemmer\n",
    "from nltk.corpus import stopwords # stopwords analytical library\n",
    "# defining a paragraph\n",
    "paragraph = \"\"\"Many parents believe that sugar consumption causes hyperactivity in their children. Indeed, 'sugar highs' are often blamed for rowdiness or excitability - but is sugar the guilty party, or is it simply a case of 'normal' childhood behaviour? Several years ago, Channel 4, together with Jo Frost (perhaps better known as Supernanny) conducted an experiment to distinguish the truth. Forty children, aged six, were invited to a party and divided into two halves. One half was given typical sugary party foods; the other half ate sugar-free alternatives. Crucially, the parents of the children were unaware as to which group their child was in. (Incidentally, no artificial colourings or flavourings commonly found in sweets were present, since these have already been linked to hyperactivity.) Subsequently, as the children ran about and enjoyed the party, the parents were asked whether they believed their own child had been given sugar. The majority believed they had. Ironically, as the children then sat down to watch a magic show, most parents changed their minds. Basically, they could not accept that their child was capable of sitting still after consuming sugary foods. To conclude, the experiment suggested that there was no link between hyperactivity and sugar intake, but that the children were naturally excited because they were at a party.\"\"\"\n"
   ]
  },
  {
   "cell_type": "code",
   "execution_count": 5,
   "id": "274d6f94-33a8-4aaa-966c-a640f14b82e8",
   "metadata": {},
   "outputs": [
    {
     "name": "stdout",
     "output_type": "stream",
     "text": [
      "Many parents believe that sugar consumption causes hyperactivity in their children. Indeed, 'sugar highs' are often blamed for rowdiness or excitability - but is sugar the guilty party, or is it simply a case of 'normal' childhood behaviour? Several years ago, Channel 4, together with Jo Frost (perhaps better known as Supernanny) conducted an experiment to distinguish the truth. Forty children, aged six, were invited to a party and divided into two halves. One half was given typical sugary party foods; the other half ate sugar-free alternatives. Crucially, the parents of the children were unaware as to which group their child was in. (Incidentally, no artificial colourings or flavourings commonly found in sweets were present, since these have already been linked to hyperactivity.) Subsequently, as the children ran about and enjoyed the party, the parents were asked whether they believed their own child had been given sugar. The majority believed they had. Ironically, as the children then sat down to watch a magic show, most parents changed their minds. Basically, they could not accept that their child was capable of sitting still after consuming sugary foods. To conclude, the experiment suggested that there was no link between hyperactivity and sugar intake, but that the children were naturally excited because they were at a party.\n"
     ]
    }
   ],
   "source": [
    "print(paragraph) "
   ]
  },
  {
   "cell_type": "code",
   "execution_count": 6,
   "id": "6783e5c8-0c6b-4417-8992-f1f67f3d3f86",
   "metadata": {},
   "outputs": [
    {
     "name": "stdout",
     "output_type": "stream",
     "text": [
      "['Many parents believe that sugar consumption causes hyperactivity in their children.', \"Indeed, 'sugar highs' are often blamed for rowdiness or excitability - but is sugar the guilty party, or is it simply a case of 'normal' childhood behaviour?\", 'Several years ago, Channel 4, together with Jo Frost (perhaps better known as Supernanny) conducted an experiment to distinguish the truth.', 'Forty children, aged six, were invited to a party and divided into two halves.', 'One half was given typical sugary party foods; the other half ate sugar-free alternatives.', 'Crucially, the parents of the children were unaware as to which group their child was in.', '(Incidentally, no artificial colourings or flavourings commonly found in sweets were present, since these have already been linked to hyperactivity.)', 'Subsequently, as the children ran about and enjoyed the party, the parents were asked whether they believed their own child had been given sugar.', 'The majority believed they had.', 'Ironically, as the children then sat down to watch a magic show, most parents changed their minds.', 'Basically, they could not accept that their child was capable of sitting still after consuming sugary foods.', 'To conclude, the experiment suggested that there was no link between hyperactivity and sugar intake, but that the children were naturally excited because they were at a party.']\n"
     ]
    }
   ],
   "source": [
    "sentences = nltk.sent_tokenize(paragraph)\n",
    "print(sentences)"
   ]
  },
  {
   "cell_type": "code",
   "execution_count": 7,
   "id": "08515c35-37e7-4ef0-974c-b19dc1e26dd0",
   "metadata": {},
   "outputs": [
    {
     "name": "stdout",
     "output_type": "stream",
     "text": [
      "Many parents believe that sugar consumption causes hyperactivity in their children.\n",
      "['Many', 'parents', 'believe', 'that', 'sugar', 'consumption', 'causes', 'hyperactivity', 'in', 'their', 'children', '.']\n"
     ]
    }
   ],
   "source": [
    "print(sentences[0])\n",
    "print(nltk.word_tokenize(sentences[0]))"
   ]
  },
  {
   "cell_type": "code",
   "execution_count": 8,
   "id": "66e0a0cd-8084-459b-bc3e-123d6e960412",
   "metadata": {},
   "outputs": [],
   "source": [
    "stemmer = PorterStemmer()"
   ]
  },
  {
   "cell_type": "code",
   "execution_count": 9,
   "id": "dc16c3eb-b3f2-4a89-9046-3509f04a301d",
   "metadata": {},
   "outputs": [],
   "source": [
    "# stopwords.words('nepali') # prints all stopwords from a current language"
   ]
  },
  {
   "cell_type": "markdown",
   "id": "a5eaac69-6d91-40b7-b09f-2ef79f934cfd",
   "metadata": {},
   "source": [
    "**Stemming\n",
    "PROBLEM:-** produced intermediate representation of the word may not have any meaning. example mani, fina, caus, intelligen "
   ]
  },
  {
   "cell_type": "code",
   "execution_count": 10,
   "id": "08137666-9a0c-4e77-8a26-9bcb11865990",
   "metadata": {},
   "outputs": [],
   "source": [
    "for i in range(len(sentences)):\n",
    "    words = nltk.word_tokenize(sentences[i])\n",
    "    words = [stemmer.stem(word) for word in words if word not in set(stopwords.words('english'))]\n",
    "    sentences[i] = ' '.join(words)"
   ]
  },
  {
   "cell_type": "code",
   "execution_count": 11,
   "id": "0bdb6190-8a19-49bb-a137-1f96e3d3b959",
   "metadata": {},
   "outputs": [
    {
     "data": {
      "text/plain": [
       "'mani parent believ sugar consumpt caus hyperact children .'"
      ]
     },
     "execution_count": 11,
     "metadata": {},
     "output_type": "execute_result"
    }
   ],
   "source": [
    "sentences[0]"
   ]
  },
  {
   "cell_type": "markdown",
   "id": "fca6e2ba-8221-465f-94d7-c3e0d3632eea",
   "metadata": {},
   "source": [
    "# 3. Lemmatization\n",
    "\n",
    "    human understandable and makes more meaning"
   ]
  },
  {
   "cell_type": "code",
   "execution_count": 12,
   "id": "10a4fca6-7da1-4f8c-8087-33b9fb62f6e6",
   "metadata": {},
   "outputs": [],
   "source": [
    "import nltk\n",
    "from nltk.stem import WordNetLemmatizer\n",
    "from nltk.corpus import stopwords"
   ]
  },
  {
   "cell_type": "code",
   "execution_count": 13,
   "id": "5d73e8bb-d0cb-4944-a822-213bed8c29dd",
   "metadata": {},
   "outputs": [
    {
     "data": {
      "text/plain": [
       "\"Many parents believe that sugar consumption causes hyperactivity in their children. Indeed, 'sugar highs' are often blamed for rowdiness or excitability - but is sugar the guilty party, or is it simply a case of 'normal' childhood behaviour? Several years ago, Channel 4, together with Jo Frost (perhaps better known as Supernanny) conducted an experiment to distinguish the truth. Forty children, aged six, were invited to a party and divided into two halves. One half was given typical sugary party foods; the other half ate sugar-free alternatives. Crucially, the parents of the children were unaware as to which group their child was in. (Incidentally, no artificial colourings or flavourings commonly found in sweets were present, since these have already been linked to hyperactivity.) Subsequently, as the children ran about and enjoyed the party, the parents were asked whether they believed their own child had been given sugar. The majority believed they had. Ironically, as the children then sat down to watch a magic show, most parents changed their minds. Basically, they could not accept that their child was capable of sitting still after consuming sugary foods. To conclude, the experiment suggested that there was no link between hyperactivity and sugar intake, but that the children were naturally excited because they were at a party.\""
      ]
     },
     "execution_count": 13,
     "metadata": {},
     "output_type": "execute_result"
    }
   ],
   "source": [
    "paragraph = \"\"\"Many parents believe that sugar consumption causes hyperactivity in their children. Indeed, 'sugar highs' are often blamed for rowdiness or excitability - but is sugar the guilty party, or is it simply a case of 'normal' childhood behaviour? Several years ago, Channel 4, together with Jo Frost (perhaps better known as Supernanny) conducted an experiment to distinguish the truth. Forty children, aged six, were invited to a party and divided into two halves. One half was given typical sugary party foods; the other half ate sugar-free alternatives. Crucially, the parents of the children were unaware as to which group their child was in. (Incidentally, no artificial colourings or flavourings commonly found in sweets were present, since these have already been linked to hyperactivity.) Subsequently, as the children ran about and enjoyed the party, the parents were asked whether they believed their own child had been given sugar. The majority believed they had. Ironically, as the children then sat down to watch a magic show, most parents changed their minds. Basically, they could not accept that their child was capable of sitting still after consuming sugary foods. To conclude, the experiment suggested that there was no link between hyperactivity and sugar intake, but that the children were naturally excited because they were at a party.\"\"\"\n",
    "paragraph"
   ]
  },
  {
   "cell_type": "code",
   "execution_count": 14,
   "id": "0927e79f-41e4-48e3-8570-dd3b7452ba87",
   "metadata": {},
   "outputs": [
    {
     "name": "stdout",
     "output_type": "stream",
     "text": [
      "Many parents believe that sugar consumption causes hyperactivity in their children.\n",
      "['Many', 'parents', 'believe', 'that', 'sugar', 'consumption', 'causes', 'hyperactivity', 'in', 'their', 'children', '.']\n"
     ]
    }
   ],
   "source": [
    "sentences = nltk.sent_tokenize(paragraph)\n",
    "sentences[0:5]\n",
    "words = nltk.word_tokenize(sentences[0])\n",
    "print(sentences[0])\n",
    "print(words)"
   ]
  },
  {
   "cell_type": "code",
   "execution_count": 15,
   "id": "c0d6fe75-fc98-4cb4-9ce2-3e4d5a4256b6",
   "metadata": {},
   "outputs": [],
   "source": [
    "lemmatizer = WordNetLemmatizer()"
   ]
  },
  {
   "cell_type": "code",
   "execution_count": 16,
   "id": "9645cdf0-5b11-4ae3-9eeb-784f54052902",
   "metadata": {},
   "outputs": [
    {
     "name": "stdout",
     "output_type": "stream",
     "text": [
      "['Many', 'parent', 'believe', 'that', 'sugar', 'consumption', 'cause', 'hyperactivity', 'in', 'their', 'child', '.', 'Indeed', ',', \"'sugar\", 'high', \"'\", 'are', 'often', 'blamed', 'for', 'rowdiness', 'or', 'excitability', '-', 'but', 'is', 'sugar', 'the', 'guilty', 'party', ',', 'or', 'is', 'it', 'simply', 'a', 'case', 'of', \"'normal\", \"'\", 'childhood', 'behaviour', '?', 'Several', 'year', 'ago', ',', 'Channel', '4', ',', 'together', 'with', 'Jo', 'Frost', '(', 'perhaps', 'better', 'known', 'a', 'Supernanny', ')', 'conducted', 'an', 'experiment', 'to', 'distinguish', 'the', 'truth', '.', 'Forty', 'child', ',', 'aged', 'six', ',', 'were', 'invited', 'to', 'a', 'party', 'and', 'divided', 'into', 'two', 'half', '.', 'One', 'half', 'wa', 'given', 'typical', 'sugary', 'party', 'food', ';', 'the', 'other', 'half', 'ate', 'sugar-free', 'alternative', '.', 'Crucially', ',', 'the', 'parent', 'of', 'the', 'child', 'were', 'unaware', 'a', 'to', 'which', 'group', 'their', 'child', 'wa', 'in', '.', '(', 'Incidentally', ',', 'no', 'artificial', 'colouring', 'or', 'flavouring', 'commonly', 'found', 'in', 'sweet', 'were', 'present', ',', 'since', 'these', 'have', 'already', 'been', 'linked', 'to', 'hyperactivity', '.', ')', 'Subsequently', ',', 'a', 'the', 'child', 'ran', 'about', 'and', 'enjoyed', 'the', 'party', ',', 'the', 'parent', 'were', 'asked', 'whether', 'they', 'believed', 'their', 'own', 'child', 'had', 'been', 'given', 'sugar', '.', 'The', 'majority', 'believed', 'they', 'had', '.', 'Ironically', ',', 'a', 'the', 'child', 'then', 'sat', 'down', 'to', 'watch', 'a', 'magic', 'show', ',', 'most', 'parent', 'changed', 'their', 'mind', '.', 'Basically', ',', 'they', 'could', 'not', 'accept', 'that', 'their', 'child', 'wa', 'capable', 'of', 'sitting', 'still', 'after', 'consuming', 'sugary', 'food', '.', 'To', 'conclude', ',', 'the', 'experiment', 'suggested', 'that', 'there', 'wa', 'no', 'link', 'between', 'hyperactivity', 'and', 'sugar', 'intake', ',', 'but', 'that', 'the', 'child', 'were', 'naturally', 'excited', 'because', 'they', 'were', 'at', 'a', 'party', '.']\n"
     ]
    }
   ],
   "source": [
    "import nltk\n",
    "from nltk.stem import WordNetLemmatizer\n",
    "from nltk.tokenize import word_tokenize, sent_tokenize\n",
    "\n",
    "#nltk.download('punkt')\n",
    "#nltk.download('wordnet')\n",
    "\n",
    "def lemma(paragraph):\n",
    "    sentences = sent_tokenize(paragraph)  # Tokenize paragraph into sentences\n",
    "    lemmatizer = WordNetLemmatizer()\n",
    "    lemmatized_words = []\n",
    "\n",
    "    for sentence in sentences:\n",
    "        words = word_tokenize(sentence)  # Tokenize each sentence into words\n",
    "        for word in words:\n",
    "            lemmatized_words.append(lemmatizer.lemmatize(word))  # Store lemmatized words\n",
    "\n",
    "    return lemmatized_words\n",
    "\n",
    "# Example usageaa\n",
    "\n",
    "print(lemma(paragraph))\n"
   ]
  },
  {
   "cell_type": "code",
   "execution_count": 17,
   "id": "7acbb83d-b19f-4105-a753-6b945bb00db4",
   "metadata": {},
   "outputs": [],
   "source": [
    "for i in range(len(sentences)):\n",
    "    words = nltk.word_tokenize(sentences[i]) # take sentence and convert to word\n",
    "    words = [lemmatizer.lemmatize(word) for word in words if word not in set(stopwords.words(\"english\"))] # remove all stopwords and lemmatize the words\n",
    "    sentences[i] = ' '.join(words) # make the sentence"
   ]
  },
  {
   "cell_type": "code",
   "execution_count": 18,
   "id": "8327b386-d4ec-42ad-bed7-bc13d5b13931",
   "metadata": {},
   "outputs": [
    {
     "name": "stdout",
     "output_type": "stream",
     "text": [
      "Many parent believe sugar consumption cause hyperactivity child .\n"
     ]
    }
   ],
   "source": [
    "print(sentences[0]) # print first sentence after lemmatization"
   ]
  },
  {
   "cell_type": "markdown",
   "id": "87369ce1-cd7f-432b-b08a-a5bfb7dfdbde",
   "metadata": {},
   "source": [
    "# 4. Bag of words"
   ]
  },
  {
   "cell_type": "markdown",
   "id": "5effdce2-0d91-4478-8c4b-30e517a20b03",
   "metadata": {},
   "source": [
    "**Bag of words using nltk**\n",
    "\n",
    "Disadvanges:\n",
    "- We have better techniques like tf–idf ([term frequency–inverse document frequency](https://en.wikipedia.org/wiki/Tf%E2%80%93idf)), word to vec\n",
    "- Gives equal weights to every words\n",
    " \n",
    "steps:\n",
    "\n",
    "1. cleaning the text\n",
    "    - stemming\n",
    "    - lemmatization\n",
    "    - removing stopwords\n",
    "2. creating the bag of words using:\n",
    "   ```python\n",
    "   from sklearn.feature_extraction.text import CountVectorizer\n",
    "   ```"
   ]
  },
  {
   "cell_type": "code",
   "execution_count": 19,
   "id": "703099a3-8ca0-4781-a5a4-024b39a1cfc2",
   "metadata": {},
   "outputs": [
    {
     "data": {
      "text/plain": [
       "\"Many parents believe that sugar consumption causes hyperactivity in their children. Indeed, 'sugar highs' are often blamed for rowdiness or excitability - but is sugar the guilty party, or is it simply a case of 'normal' childhood behaviour? Several years ago, Channel 4, together with Jo Frost (perhaps better known as Supernanny) conducted an experiment to distinguish the truth. Forty children, aged six, were invited to a party and divided into two halves. One half was given typical sugary party foods; the other half ate sugar-free alternatives. Crucially, the parents of the children were unaware as to which group their child was in. (Incidentally, no artificial colourings or flavourings commonly found in sweets were present, since these have already been linked to hyperactivity.) Subsequently, as the children ran about and enjoyed the party, the parents were asked whether they believed their own child had been given sugar. The majority believed they had. Ironically, as the children then sat down to watch a magic show, most parents changed their minds. Basically, they could not accept that their child was capable of sitting still after consuming sugary foods. To conclude, the experiment suggested that there was no link between hyperactivity and sugar intake, but that the children were naturally excited because they were at a party.\""
      ]
     },
     "execution_count": 19,
     "metadata": {},
     "output_type": "execute_result"
    }
   ],
   "source": [
    "paragraph = \"\"\"Many parents believe that sugar consumption causes hyperactivity in their children. Indeed, 'sugar highs' are often blamed for rowdiness or excitability - but is sugar the guilty party, or is it simply a case of 'normal' childhood behaviour? Several years ago, Channel 4, together with Jo Frost (perhaps better known as Supernanny) conducted an experiment to distinguish the truth. Forty children, aged six, were invited to a party and divided into two halves. One half was given typical sugary party foods; the other half ate sugar-free alternatives. Crucially, the parents of the children were unaware as to which group their child was in. (Incidentally, no artificial colourings or flavourings commonly found in sweets were present, since these have already been linked to hyperactivity.) Subsequently, as the children ran about and enjoyed the party, the parents were asked whether they believed their own child had been given sugar. The majority believed they had. Ironically, as the children then sat down to watch a magic show, most parents changed their minds. Basically, they could not accept that their child was capable of sitting still after consuming sugary foods. To conclude, the experiment suggested that there was no link between hyperactivity and sugar intake, but that the children were naturally excited because they were at a party.\"\"\"\n",
    "paragraph"
   ]
  },
  {
   "cell_type": "code",
   "execution_count": 20,
   "id": "d34208c3-0ac1-4d1d-a14f-a60a2638a6e9",
   "metadata": {},
   "outputs": [],
   "source": [
    "import nltk"
   ]
  },
  {
   "cell_type": "markdown",
   "id": "3567dd4a-7e53-4cf1-9ca3-86c2e6e4056a",
   "metadata": {},
   "source": [
    "### regular expression library (re)\n",
    "```python\n",
    "import re\n",
    "from nltk.corpus import corpus\n",
    "from nltk.stem.porter import PorterStemmer\n",
    "from nltk.stem import WordNetLemmatizer\n",
    "```\n",
    "[re Documentations](https://docs.python.org/3/library/re.html)\n",
    "\n",
    "[nltk.corpus Documentations](https://www.nltk.org/api/nltk.corpus.html)\n",
    "\n",
    "[nltk.stem.porter Documentations](https://www.nltk.org/api/nltk.stem.porter.html)\n",
    "\n",
    "[nltk book](https://www.nltk.org/book/ch01.html)"
   ]
  },
  {
   "cell_type": "code",
   "execution_count": 21,
   "id": "210654e3-9933-4d27-9242-9dc778cef1bb",
   "metadata": {},
   "outputs": [],
   "source": [
    "import re"
   ]
  },
  {
   "cell_type": "code",
   "execution_count": 22,
   "id": "07a00253-08c4-4d5b-9a76-abd020f0725d",
   "metadata": {},
   "outputs": [],
   "source": [
    "from nltk.corpus import stopwords\n",
    "from nltk.stem.porter import PorterStemmer\n",
    "from nltk.stem import WordNetLemmatizer"
   ]
  },
  {
   "cell_type": "code",
   "execution_count": 23,
   "id": "a7c5c7db-f46d-40cb-ba82-21e27e271978",
   "metadata": {},
   "outputs": [],
   "source": [
    " # creating objects\n",
    "ps = PorterStemmer()\n",
    "wordnet = WordNetLemmatizer()\n",
    "sentences = nltk.sent_tokenize(paragraph) #changes paragraph to sentences\n",
    "corpus= []"
   ]
  },
  {
   "cell_type": "code",
   "execution_count": 24,
   "id": "493022d4-d082-47a7-8cec-dcc7721168b6",
   "metadata": {},
   "outputs": [
    {
     "data": {
      "text/plain": [
       "'Many parents believe that sugar consumption causes hyperactivity in their children.'"
      ]
     },
     "execution_count": 24,
     "metadata": {},
     "output_type": "execute_result"
    }
   ],
   "source": [
    "# to see first sentence\n",
    "len(sentences)\n",
    "sentences[0]"
   ]
  },
  {
   "cell_type": "code",
   "execution_count": 25,
   "id": "e16e60cd-66ce-4cff-b11f-0bf6e23a1f59",
   "metadata": {},
   "outputs": [
    {
     "data": {
      "text/plain": [
       "\"for sentence in range(len(sentences)):\\n    review = re.sub('[^a-zA-Z]', ' ', sentences[sentence]) # remove all character except a-z and A-Z with spaces\\n    review = review.lower() # lowering each sentences\\n    review = review.split() # to get list of words\\n    review = [ps.stem(word) for word in review if not word in set(stopwords.words('english'))] # list comprehension --> removes stopwords\\n    review = ' '.join(review)\\n    corpus.append(review)\""
      ]
     },
     "execution_count": 25,
     "metadata": {},
     "output_type": "execute_result"
    }
   ],
   "source": [
    "'''for sentence in range(len(sentences)):\n",
    "    review = re.sub('[^a-zA-Z]', ' ', sentences[sentence]) # remove all character except a-z and A-Z with spaces\n",
    "    review = review.lower() # lowering each sentences\n",
    "    review = review.split() # to get list of words\n",
    "    review = [ps.stem(word) for word in review if not word in set(stopwords.words('english'))] # list comprehension --> removes stopwords\n",
    "    review = ' '.join(review)\n",
    "    corpus.append(review)'''"
   ]
  },
  {
   "cell_type": "code",
   "execution_count": 26,
   "id": "02a99eb4-52f3-48e9-91f2-c9fdc919694e",
   "metadata": {},
   "outputs": [
    {
     "data": {
      "text/plain": [
       "'Many parents believe that sugar consumption causes hyperactivity in their children.'"
      ]
     },
     "execution_count": 26,
     "metadata": {},
     "output_type": "execute_result"
    }
   ],
   "source": [
    "sentences[0]"
   ]
  },
  {
   "cell_type": "code",
   "execution_count": 27,
   "id": "c879c575-cc5f-4d95-8e21-42110e87303d",
   "metadata": {},
   "outputs": [],
   "source": [
    " #corpus[0]"
   ]
  },
  {
   "cell_type": "code",
   "execution_count": 28,
   "id": "a9c23245-648e-41ae-a407-164447398395",
   "metadata": {},
   "outputs": [],
   "source": [
    "#len(sentences)"
   ]
  },
  {
   "cell_type": "code",
   "execution_count": 29,
   "id": "41a0327d-544c-466d-a708-a4922cc247ed",
   "metadata": {},
   "outputs": [],
   "source": [
    "#len(corpus)"
   ]
  },
  {
   "cell_type": "code",
   "execution_count": null,
   "id": "cf6837d3-eea5-40da-a438-39bc10177c99",
   "metadata": {},
   "outputs": [],
   "source": []
  },
  {
   "cell_type": "code",
   "execution_count": 30,
   "id": "61a99422-e01f-40b3-992b-e319267c8041",
   "metadata": {},
   "outputs": [],
   "source": [
    "for sentence in range(len(sentences)):\n",
    "    review = re.sub('[^a-zA-Z]', ' ', sentences[sentence]) # remove all character except a-z and A-Z with spaces\n",
    "    review = review.lower() # lowering each sentences\n",
    "    review = review.split() # to get list of words\n",
    "    review = [wordnet.lemmatize(word) for word in review if not word in set(stopwords.words('english'))] # list comprehension --> removes stopwords\n",
    "    review = ' '.join(review)\n",
    "    corpus.append(review)"
   ]
  },
  {
   "cell_type": "code",
   "execution_count": 31,
   "id": "6464ef96-863e-40bd-bcdc-c5cf9f4aec5f",
   "metadata": {},
   "outputs": [
    {
     "data": {
      "text/plain": [
       "'Many parents believe that sugar consumption causes hyperactivity in their children.'"
      ]
     },
     "execution_count": 31,
     "metadata": {},
     "output_type": "execute_result"
    }
   ],
   "source": [
    "sentences[0]"
   ]
  },
  {
   "cell_type": "code",
   "execution_count": 32,
   "id": "0965c1dd-572c-4299-a77e-49a0dda3e145",
   "metadata": {},
   "outputs": [
    {
     "data": {
      "text/plain": [
       "'many parent believe sugar consumption cause hyperactivity child'"
      ]
     },
     "execution_count": 32,
     "metadata": {},
     "output_type": "execute_result"
    }
   ],
   "source": [
    "corpus[0]"
   ]
  },
  {
   "cell_type": "code",
   "execution_count": 33,
   "id": "47288b0d-c103-4a3b-9501-df38de1c8c02",
   "metadata": {},
   "outputs": [
    {
     "data": {
      "text/plain": [
       "['Many parents believe that sugar consumption causes hyperactivity in their children.',\n",
       " \"Indeed, 'sugar highs' are often blamed for rowdiness or excitability - but is sugar the guilty party, or is it simply a case of 'normal' childhood behaviour?\",\n",
       " 'Several years ago, Channel 4, together with Jo Frost (perhaps better known as Supernanny) conducted an experiment to distinguish the truth.',\n",
       " 'Forty children, aged six, were invited to a party and divided into two halves.',\n",
       " 'One half was given typical sugary party foods; the other half ate sugar-free alternatives.',\n",
       " 'Crucially, the parents of the children were unaware as to which group their child was in.',\n",
       " '(Incidentally, no artificial colourings or flavourings commonly found in sweets were present, since these have already been linked to hyperactivity.)',\n",
       " 'Subsequently, as the children ran about and enjoyed the party, the parents were asked whether they believed their own child had been given sugar.',\n",
       " 'The majority believed they had.',\n",
       " 'Ironically, as the children then sat down to watch a magic show, most parents changed their minds.',\n",
       " 'Basically, they could not accept that their child was capable of sitting still after consuming sugary foods.',\n",
       " 'To conclude, the experiment suggested that there was no link between hyperactivity and sugar intake, but that the children were naturally excited because they were at a party.']"
      ]
     },
     "execution_count": 33,
     "metadata": {},
     "output_type": "execute_result"
    }
   ],
   "source": [
    "sentences"
   ]
  },
  {
   "cell_type": "code",
   "execution_count": 34,
   "id": "967c4db8-84f1-4d17-8088-28b4e54db8e6",
   "metadata": {},
   "outputs": [],
   "source": [
    "corpus2 = []\n",
    "for sentence in range(len(sentences)):\n",
    "    review = re.sub('[^a-zA-Z]', ' ', sentences[sentence]) # remove all character except a-z and A-Z with spaces\n",
    "    review = review.lower() # lowering each sentences\n",
    "    review = review.split() # to get list of words\n",
    "    review = [ps.stem(word) for word in review if not word in set(stopwords.words('english'))] # list comprehension --> removes stopwords\n",
    "    review = ' '.join(review)\n",
    "    corpus2.append(review)"
   ]
  },
  {
   "cell_type": "code",
   "execution_count": 35,
   "id": "49f7c723-0790-4661-9f08-ecc8498208fd",
   "metadata": {},
   "outputs": [
    {
     "data": {
      "text/plain": [
       "'Many parents believe that sugar consumption causes hyperactivity in their children.'"
      ]
     },
     "execution_count": 35,
     "metadata": {},
     "output_type": "execute_result"
    }
   ],
   "source": [
    "sentences[0]"
   ]
  },
  {
   "cell_type": "code",
   "execution_count": 36,
   "id": "5c5f5561-c07b-4486-b64b-f842a04db06c",
   "metadata": {},
   "outputs": [
    {
     "data": {
      "text/plain": [
       "'mani parent believ sugar consumpt caus hyperact children'"
      ]
     },
     "execution_count": 36,
     "metadata": {},
     "output_type": "execute_result"
    }
   ],
   "source": [
    "corpus2[0]"
   ]
  },
  {
   "cell_type": "code",
   "execution_count": 37,
   "id": "007fdfe7-e44a-4891-94e5-97854ee27677",
   "metadata": {},
   "outputs": [
    {
     "data": {
      "text/plain": [
       "'many parent believe sugar consumption cause hyperactivity child'"
      ]
     },
     "execution_count": 37,
     "metadata": {},
     "output_type": "execute_result"
    }
   ],
   "source": [
    "corpus[0]"
   ]
  },
  {
   "cell_type": "markdown",
   "id": "a5d55e96-d6a5-4684-9f10-7af14754d7a3",
   "metadata": {},
   "source": [
    "## Creating the bag of words model\n",
    "\n",
    "first install Scikit learn\n",
    "```shell\n",
    "python -m venv sklearn-env\n",
    "sklearn-env\\Scripts\\activate  # activate\n",
    "pip install -U scikit-learn\n",
    "```\n",
    "then :\n",
    "```shell\n",
    "python -m pip show scikit-learn  # show scikit-learn version and location\n",
    "python -m pip freeze             # show all installed packages in the environment\n",
    "python -c \"import sklearn; sklearn.show_versions()\"\n",
    "```"
   ]
  },
  {
   "cell_type": "code",
   "execution_count": 38,
   "id": "4f820975-d448-4088-b5f6-48884000ff37",
   "metadata": {},
   "outputs": [
    {
     "ename": "ModuleNotFoundError",
     "evalue": "No module named 'sklearn'",
     "output_type": "error",
     "traceback": [
      "\u001b[1;31m---------------------------------------------------------------------------\u001b[0m",
      "\u001b[1;31mModuleNotFoundError\u001b[0m                       Traceback (most recent call last)",
      "Cell \u001b[1;32mIn[38], line 1\u001b[0m\n\u001b[1;32m----> 1\u001b[0m \u001b[38;5;28;01mfrom\u001b[39;00m\u001b[38;5;250m \u001b[39m\u001b[38;5;21;01msklearn\u001b[39;00m\u001b[38;5;21;01m.\u001b[39;00m\u001b[38;5;21;01mfeature_extraction\u001b[39;00m\u001b[38;5;21;01m.\u001b[39;00m\u001b[38;5;21;01mtext\u001b[39;00m\u001b[38;5;250m \u001b[39m\u001b[38;5;28;01mimport\u001b[39;00m CountVectorizer\n",
      "\u001b[1;31mModuleNotFoundError\u001b[0m: No module named 'sklearn'"
     ]
    }
   ],
   "source": [
    "from sklearn.feature_extraction.text import CountVectorizer"
   ]
  },
  {
   "cell_type": "code",
   "execution_count": null,
   "id": "ac29827e-6bf6-4ee4-a4b7-1d29e48a7261",
   "metadata": {},
   "outputs": [],
   "source": []
  }
 ],
 "metadata": {
  "kernelspec": {
   "display_name": "Python 3 (ipykernel)",
   "language": "python",
   "name": "python3"
  },
  "language_info": {
   "codemirror_mode": {
    "name": "ipython",
    "version": 3
   },
   "file_extension": ".py",
   "mimetype": "text/x-python",
   "name": "python",
   "nbconvert_exporter": "python",
   "pygments_lexer": "ipython3",
   "version": "3.11.11"
  }
 },
 "nbformat": 4,
 "nbformat_minor": 5
}
